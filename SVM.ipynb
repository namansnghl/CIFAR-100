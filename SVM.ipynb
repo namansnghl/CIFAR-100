{
 "cells": [
  {
   "cell_type": "markdown",
   "id": "34b04123",
   "metadata": {},
   "source": [
    "# Image Classification using Support Vector Machine"
   ]
  },
  {
   "cell_type": "code",
   "execution_count": 1,
   "id": "3cf0b316",
   "metadata": {},
   "outputs": [],
   "source": [
    "from torchvision.datasets import CIFAR100\n",
    "import torchvision.transforms as transforms\n",
    "from torch.utils.data.dataloader import DataLoader\n",
    "\n",
    "import pickle\n",
    "import os\n",
    "import pandas as pd\n",
    "import numpy as np\n",
    "import matplotlib\n",
    "import matplotlib.pyplot as plt\n",
    "%matplotlib inline\n",
    "\n",
    "from sklearn.model_selection import train_test_split\n",
    "from sklearn.preprocessing import LabelEncoder\n",
    "from sklearn.svm import SVC\n",
    "from sklearn.decomposition import PCA\n",
    "from sklearn.metrics import confusion_matrix\n",
    "matplotlib.rcParams['figure.facecolor'] = '#ffffff'"
   ]
  },
  {
   "cell_type": "code",
   "execution_count": 2,
   "id": "15f8e2a7",
   "metadata": {},
   "outputs": [],
   "source": [
    "DATA_DIR = './data'\n",
    "TRAIN_DIR = f'{DATA_DIR}/training'\n",
    "EVAL_DIR = f'{DATA_DIR}/eval'\n",
    "\n",
    "# Directory creation for data\n",
    "os.makedirs(TRAIN_DIR, exist_ok=True)\n",
    "os.makedirs(EVAL_DIR, exist_ok=True)"
   ]
  },
  {
   "cell_type": "code",
   "execution_count": 3,
   "id": "9f4d869a",
   "metadata": {
    "scrolled": false
   },
   "outputs": [
    {
     "name": "stdout",
     "output_type": "stream",
     "text": [
      "Files already downloaded and verified\n",
      "Files already downloaded and verified\n"
     ]
    }
   ],
   "source": [
    "transform = transforms.Compose(\n",
    "    [transforms.ToTensor(),\n",
    "     transforms.Normalize((0.5, 0.5, 0.5), (0.5, 0.5, 0.5))])\n",
    "\n",
    "train_dataset = CIFAR100(root=TRAIN_DIR, download=True, train=True, transform=transform)\n",
    "eval_dataset = CIFAR100(root=EVAL_DIR, download=True, train=False, transform=transform)"
   ]
  },
  {
   "cell_type": "code",
   "execution_count": 4,
   "id": "99b4d7fb",
   "metadata": {},
   "outputs": [],
   "source": [
    "# Function to flatten images\n",
    "def flatten_images(images):\n",
    "    return images.view(images.size(0), -1)\n",
    "\n",
    "# Prepare training data\n",
    "train_data = [(flatten_images(image), label) for image, label in train_dataset]\n",
    "train_df = pd.DataFrame(train_data, columns=[\"Image\", \"Label\"])\n",
    "\n",
    "# Flatten the image column further\n",
    "train_df = pd.concat([train_df[\"Label\"], train_df[\"Image\"].apply(lambda x: pd.Series(x.numpy().flatten()))], axis=1)\n",
    "\n",
    "# Prepare evaluation data\n",
    "eval_data = [(flatten_images(image), label) for image, label in eval_dataset]\n",
    "eval_df = pd.DataFrame(eval_data, columns=[\"Image\", \"Label\"])\n",
    "\n",
    "# Flatten the image column further\n",
    "eval_df = pd.concat([eval_df[\"Label\"], eval_df[\"Image\"].apply(lambda x: pd.Series(x.numpy().flatten()))], axis=1)\n"
   ]
  },
  {
   "cell_type": "code",
   "execution_count": 5,
   "id": "588a739e",
   "metadata": {},
   "outputs": [
    {
     "data": {
      "text/html": [
       "<div>\n",
       "<style scoped>\n",
       "    .dataframe tbody tr th:only-of-type {\n",
       "        vertical-align: middle;\n",
       "    }\n",
       "\n",
       "    .dataframe tbody tr th {\n",
       "        vertical-align: top;\n",
       "    }\n",
       "\n",
       "    .dataframe thead th {\n",
       "        text-align: right;\n",
       "    }\n",
       "</style>\n",
       "<table border=\"1\" class=\"dataframe\">\n",
       "  <thead>\n",
       "    <tr style=\"text-align: right;\">\n",
       "      <th></th>\n",
       "      <th>Label</th>\n",
       "      <th>0</th>\n",
       "      <th>1</th>\n",
       "      <th>2</th>\n",
       "      <th>3</th>\n",
       "      <th>4</th>\n",
       "      <th>5</th>\n",
       "      <th>6</th>\n",
       "      <th>7</th>\n",
       "      <th>8</th>\n",
       "      <th>...</th>\n",
       "      <th>3062</th>\n",
       "      <th>3063</th>\n",
       "      <th>3064</th>\n",
       "      <th>3065</th>\n",
       "      <th>3066</th>\n",
       "      <th>3067</th>\n",
       "      <th>3068</th>\n",
       "      <th>3069</th>\n",
       "      <th>3070</th>\n",
       "      <th>3071</th>\n",
       "    </tr>\n",
       "  </thead>\n",
       "  <tbody>\n",
       "    <tr>\n",
       "      <th>0</th>\n",
       "      <td>19</td>\n",
       "      <td>1.000000</td>\n",
       "      <td>1.000000</td>\n",
       "      <td>1.000000</td>\n",
       "      <td>1.000000</td>\n",
       "      <td>1.000000</td>\n",
       "      <td>1.000000</td>\n",
       "      <td>1.000000</td>\n",
       "      <td>1.000000</td>\n",
       "      <td>1.000000</td>\n",
       "      <td>...</td>\n",
       "      <td>-0.662745</td>\n",
       "      <td>-0.419608</td>\n",
       "      <td>-0.403922</td>\n",
       "      <td>-0.631373</td>\n",
       "      <td>-0.631373</td>\n",
       "      <td>-0.811765</td>\n",
       "      <td>-0.968627</td>\n",
       "      <td>-0.921569</td>\n",
       "      <td>-0.537255</td>\n",
       "      <td>-0.380392</td>\n",
       "    </tr>\n",
       "    <tr>\n",
       "      <th>1</th>\n",
       "      <td>29</td>\n",
       "      <td>1.000000</td>\n",
       "      <td>0.984314</td>\n",
       "      <td>0.984314</td>\n",
       "      <td>0.984314</td>\n",
       "      <td>0.984314</td>\n",
       "      <td>0.984314</td>\n",
       "      <td>0.984314</td>\n",
       "      <td>0.984314</td>\n",
       "      <td>0.984314</td>\n",
       "      <td>...</td>\n",
       "      <td>0.984314</td>\n",
       "      <td>0.984314</td>\n",
       "      <td>0.984314</td>\n",
       "      <td>0.984314</td>\n",
       "      <td>0.984314</td>\n",
       "      <td>0.984314</td>\n",
       "      <td>0.984314</td>\n",
       "      <td>0.984314</td>\n",
       "      <td>0.984314</td>\n",
       "      <td>1.000000</td>\n",
       "    </tr>\n",
       "    <tr>\n",
       "      <th>2</th>\n",
       "      <td>0</td>\n",
       "      <td>0.960784</td>\n",
       "      <td>0.945098</td>\n",
       "      <td>0.937255</td>\n",
       "      <td>0.945098</td>\n",
       "      <td>0.952941</td>\n",
       "      <td>0.952941</td>\n",
       "      <td>0.945098</td>\n",
       "      <td>0.945098</td>\n",
       "      <td>0.937255</td>\n",
       "      <td>...</td>\n",
       "      <td>0.545098</td>\n",
       "      <td>0.537255</td>\n",
       "      <td>0.513726</td>\n",
       "      <td>0.498039</td>\n",
       "      <td>0.490196</td>\n",
       "      <td>0.482353</td>\n",
       "      <td>0.490196</td>\n",
       "      <td>0.521569</td>\n",
       "      <td>0.623529</td>\n",
       "      <td>0.788235</td>\n",
       "    </tr>\n",
       "    <tr>\n",
       "      <th>3</th>\n",
       "      <td>11</td>\n",
       "      <td>-0.027451</td>\n",
       "      <td>0.027451</td>\n",
       "      <td>0.058824</td>\n",
       "      <td>0.082353</td>\n",
       "      <td>0.098039</td>\n",
       "      <td>0.129412</td>\n",
       "      <td>0.160784</td>\n",
       "      <td>0.192157</td>\n",
       "      <td>0.223529</td>\n",
       "      <td>...</td>\n",
       "      <td>0.552941</td>\n",
       "      <td>0.615686</td>\n",
       "      <td>0.686275</td>\n",
       "      <td>0.694118</td>\n",
       "      <td>0.701961</td>\n",
       "      <td>0.733333</td>\n",
       "      <td>0.749020</td>\n",
       "      <td>0.819608</td>\n",
       "      <td>0.850980</td>\n",
       "      <td>0.811765</td>\n",
       "    </tr>\n",
       "    <tr>\n",
       "      <th>4</th>\n",
       "      <td>1</td>\n",
       "      <td>-0.662745</td>\n",
       "      <td>-0.749020</td>\n",
       "      <td>-0.317647</td>\n",
       "      <td>-0.003922</td>\n",
       "      <td>-0.568627</td>\n",
       "      <td>-0.623529</td>\n",
       "      <td>-0.600000</td>\n",
       "      <td>-0.317647</td>\n",
       "      <td>-0.050980</td>\n",
       "      <td>...</td>\n",
       "      <td>-0.701961</td>\n",
       "      <td>-0.505882</td>\n",
       "      <td>-0.450980</td>\n",
       "      <td>-0.576471</td>\n",
       "      <td>-0.403922</td>\n",
       "      <td>-0.607843</td>\n",
       "      <td>-0.388235</td>\n",
       "      <td>-0.529412</td>\n",
       "      <td>-0.772549</td>\n",
       "      <td>-0.709804</td>\n",
       "    </tr>\n",
       "  </tbody>\n",
       "</table>\n",
       "<p>5 rows × 3073 columns</p>\n",
       "</div>"
      ],
      "text/plain": [
       "   Label         0         1         2         3         4         5  \\\n",
       "0     19  1.000000  1.000000  1.000000  1.000000  1.000000  1.000000   \n",
       "1     29  1.000000  0.984314  0.984314  0.984314  0.984314  0.984314   \n",
       "2      0  0.960784  0.945098  0.937255  0.945098  0.952941  0.952941   \n",
       "3     11 -0.027451  0.027451  0.058824  0.082353  0.098039  0.129412   \n",
       "4      1 -0.662745 -0.749020 -0.317647 -0.003922 -0.568627 -0.623529   \n",
       "\n",
       "          6         7         8  ...      3062      3063      3064      3065  \\\n",
       "0  1.000000  1.000000  1.000000  ... -0.662745 -0.419608 -0.403922 -0.631373   \n",
       "1  0.984314  0.984314  0.984314  ...  0.984314  0.984314  0.984314  0.984314   \n",
       "2  0.945098  0.945098  0.937255  ...  0.545098  0.537255  0.513726  0.498039   \n",
       "3  0.160784  0.192157  0.223529  ...  0.552941  0.615686  0.686275  0.694118   \n",
       "4 -0.600000 -0.317647 -0.050980  ... -0.701961 -0.505882 -0.450980 -0.576471   \n",
       "\n",
       "       3066      3067      3068      3069      3070      3071  \n",
       "0 -0.631373 -0.811765 -0.968627 -0.921569 -0.537255 -0.380392  \n",
       "1  0.984314  0.984314  0.984314  0.984314  0.984314  1.000000  \n",
       "2  0.490196  0.482353  0.490196  0.521569  0.623529  0.788235  \n",
       "3  0.701961  0.733333  0.749020  0.819608  0.850980  0.811765  \n",
       "4 -0.403922 -0.607843 -0.388235 -0.529412 -0.772549 -0.709804  \n",
       "\n",
       "[5 rows x 3073 columns]"
      ]
     },
     "execution_count": 5,
     "metadata": {},
     "output_type": "execute_result"
    }
   ],
   "source": [
    "train_df.head()"
   ]
  },
  {
   "cell_type": "markdown",
   "id": "aa9d747b",
   "metadata": {},
   "source": [
    "We have total (3*32*32) image features + 1 label"
   ]
  },
  {
   "cell_type": "markdown",
   "id": "43263507",
   "metadata": {},
   "source": [
    "# Changing Labels to Coarse Labels\n",
    "(Superclass labels)"
   ]
  },
  {
   "cell_type": "code",
   "execution_count": 6,
   "id": "40568941",
   "metadata": {},
   "outputs": [],
   "source": [
    "subclass_to_superclass = {\n",
    "    0: 'fruit and vegetables', 1: 'fish', 2: 'people', 3: 'large carnivores',\n",
    "    4: 'aquatic mammals', 5: 'household furniture', 6: 'insects', 7: 'insects',\n",
    "    8: 'vehicles 1', 9: 'food containers', 10: 'food containers', 11: 'people',\n",
    "    12: 'large man-made outdoor things', 13: 'vehicles 1', 14: 'insects',\n",
    "    15: 'large omnivores and herbivores', 16: 'food containers', 17: 'large man-made outdoor things',\n",
    "    18: 'insects', 19: 'large omnivores and herbivores', 20: 'household furniture',\n",
    "    21: 'large omnivores and herbivores', 22: 'household electrical devices', 23: 'large natural outdoor scenes',\n",
    "    24: 'insects', 25: 'household furniture', 26: 'non-insect invertebrates', 27: 'reptiles',\n",
    "    28: 'food containers', 29: 'reptiles', 30: 'aquatic mammals', 31: 'large omnivores and herbivores',\n",
    "    32: 'fish', 33: 'large natural outdoor scenes', 34: 'medium-sized mammals', 35: 'people',\n",
    "    36: 'small mammals', 37: 'large man-made outdoor things', 38: 'large omnivores and herbivores',\n",
    "    39: 'household electrical devices', 40: 'household electrical devices', 41: 'vehicles 2', 42: 'large carnivores',\n",
    "    43: 'large carnivores', 44: 'reptiles', 45: 'non-insect invertebrates', 46: 'people',\n",
    "    47: 'trees', 48: 'vehicles 1', 49: 'large natural outdoor scenes', 50: 'small mammals',\n",
    "    51: 'fruit and vegetables', 52: 'trees', 53: 'fruit and vegetables', 54: 'flowers',\n",
    "    55: 'aquatic mammals', 56: 'trees', 57: 'fruit and vegetables', 58: 'vehicles 1',\n",
    "    59: 'trees', 60: 'large natural outdoor scenes', 61: 'food containers', 62: 'flowers',\n",
    "    63: 'medium-sized mammals', 64: 'medium-sized mammals', 65: 'small mammals', 66: 'medium-sized mammals',\n",
    "    67: 'fish', 68: 'large man-made outdoor things', 69: 'vehicles 2', 70: 'flowers',\n",
    "    71: 'large natural outdoor scenes', 72: 'aquatic mammals', 73: 'fish', 74: 'medium-sized mammals',\n",
    "    75: 'medium-sized mammals', 76: 'large man-made outdoor things', 77: 'non-insect invertebrates',\n",
    "    78: 'reptiles', 79: 'non-insect invertebrates', 80: 'small mammals', 81: 'vehicles 2',\n",
    "    82: 'flowers', 83: 'fruit and vegetables', 84: 'household furniture', 85: 'vehicles 2',\n",
    "    86: 'household electrical devices', 87: 'household electrical devices', 88: 'large carnivores',\n",
    "    89: 'vehicles 2', 90: 'vehicles 1', 91: 'fish', 92: 'flowers', 93: 'reptiles',\n",
    "    94: 'household furniture', 95: 'aquatic mammals', 96: 'trees', 97: 'large carnivores',\n",
    "    98: 'people', 99: 'non-insect invertebrates'\n",
    "}\n"
   ]
  },
  {
   "cell_type": "code",
   "execution_count": 7,
   "id": "d54ce860",
   "metadata": {},
   "outputs": [],
   "source": [
    "train_df.Label = train_df.Label.replace(subclass_to_superclass)\n",
    "eval_df.Label = eval_df.Label.replace(subclass_to_superclass)"
   ]
  },
  {
   "cell_type": "code",
   "execution_count": 8,
   "id": "59990cce",
   "metadata": {},
   "outputs": [
    {
     "data": {
      "text/html": [
       "<div>\n",
       "<style scoped>\n",
       "    .dataframe tbody tr th:only-of-type {\n",
       "        vertical-align: middle;\n",
       "    }\n",
       "\n",
       "    .dataframe tbody tr th {\n",
       "        vertical-align: top;\n",
       "    }\n",
       "\n",
       "    .dataframe thead th {\n",
       "        text-align: right;\n",
       "    }\n",
       "</style>\n",
       "<table border=\"1\" class=\"dataframe\">\n",
       "  <thead>\n",
       "    <tr style=\"text-align: right;\">\n",
       "      <th></th>\n",
       "      <th>Label</th>\n",
       "      <th>0</th>\n",
       "      <th>1</th>\n",
       "      <th>2</th>\n",
       "      <th>3</th>\n",
       "      <th>4</th>\n",
       "      <th>5</th>\n",
       "      <th>6</th>\n",
       "      <th>7</th>\n",
       "      <th>8</th>\n",
       "      <th>...</th>\n",
       "      <th>3062</th>\n",
       "      <th>3063</th>\n",
       "      <th>3064</th>\n",
       "      <th>3065</th>\n",
       "      <th>3066</th>\n",
       "      <th>3067</th>\n",
       "      <th>3068</th>\n",
       "      <th>3069</th>\n",
       "      <th>3070</th>\n",
       "      <th>3071</th>\n",
       "    </tr>\n",
       "  </thead>\n",
       "  <tbody>\n",
       "    <tr>\n",
       "      <th>0</th>\n",
       "      <td>large omnivores and herbivores</td>\n",
       "      <td>1.0</td>\n",
       "      <td>1.000000</td>\n",
       "      <td>1.000000</td>\n",
       "      <td>1.000000</td>\n",
       "      <td>1.000000</td>\n",
       "      <td>1.000000</td>\n",
       "      <td>1.000000</td>\n",
       "      <td>1.000000</td>\n",
       "      <td>1.000000</td>\n",
       "      <td>...</td>\n",
       "      <td>-0.662745</td>\n",
       "      <td>-0.419608</td>\n",
       "      <td>-0.403922</td>\n",
       "      <td>-0.631373</td>\n",
       "      <td>-0.631373</td>\n",
       "      <td>-0.811765</td>\n",
       "      <td>-0.968627</td>\n",
       "      <td>-0.921569</td>\n",
       "      <td>-0.537255</td>\n",
       "      <td>-0.380392</td>\n",
       "    </tr>\n",
       "    <tr>\n",
       "      <th>1</th>\n",
       "      <td>reptiles</td>\n",
       "      <td>1.0</td>\n",
       "      <td>0.984314</td>\n",
       "      <td>0.984314</td>\n",
       "      <td>0.984314</td>\n",
       "      <td>0.984314</td>\n",
       "      <td>0.984314</td>\n",
       "      <td>0.984314</td>\n",
       "      <td>0.984314</td>\n",
       "      <td>0.984314</td>\n",
       "      <td>...</td>\n",
       "      <td>0.984314</td>\n",
       "      <td>0.984314</td>\n",
       "      <td>0.984314</td>\n",
       "      <td>0.984314</td>\n",
       "      <td>0.984314</td>\n",
       "      <td>0.984314</td>\n",
       "      <td>0.984314</td>\n",
       "      <td>0.984314</td>\n",
       "      <td>0.984314</td>\n",
       "      <td>1.000000</td>\n",
       "    </tr>\n",
       "  </tbody>\n",
       "</table>\n",
       "<p>2 rows × 3073 columns</p>\n",
       "</div>"
      ],
      "text/plain": [
       "                            Label    0         1         2         3  \\\n",
       "0  large omnivores and herbivores  1.0  1.000000  1.000000  1.000000   \n",
       "1                        reptiles  1.0  0.984314  0.984314  0.984314   \n",
       "\n",
       "          4         5         6         7         8  ...      3062      3063  \\\n",
       "0  1.000000  1.000000  1.000000  1.000000  1.000000  ... -0.662745 -0.419608   \n",
       "1  0.984314  0.984314  0.984314  0.984314  0.984314  ...  0.984314  0.984314   \n",
       "\n",
       "       3064      3065      3066      3067      3068      3069      3070  \\\n",
       "0 -0.403922 -0.631373 -0.631373 -0.811765 -0.968627 -0.921569 -0.537255   \n",
       "1  0.984314  0.984314  0.984314  0.984314  0.984314  0.984314  0.984314   \n",
       "\n",
       "       3071  \n",
       "0 -0.380392  \n",
       "1  1.000000  \n",
       "\n",
       "[2 rows x 3073 columns]"
      ]
     },
     "execution_count": 8,
     "metadata": {},
     "output_type": "execute_result"
    }
   ],
   "source": [
    "train_df.head(2)"
   ]
  },
  {
   "cell_type": "markdown",
   "id": "49f72d0c",
   "metadata": {},
   "source": [
    "#### Label Encoding target column"
   ]
  },
  {
   "cell_type": "code",
   "execution_count": 9,
   "id": "b3b03bd6",
   "metadata": {},
   "outputs": [],
   "source": [
    "label_encoder = LabelEncoder()\n",
    "train_df.Label = label_encoder.fit_transform(train_df.Label)\n",
    "eval_df.Label = label_encoder.transform(eval_df.Label)"
   ]
  },
  {
   "cell_type": "markdown",
   "id": "dbf8c154",
   "metadata": {},
   "source": [
    "#### Dimension Reduction"
   ]
  },
  {
   "cell_type": "code",
   "execution_count": 10,
   "id": "373adb73",
   "metadata": {},
   "outputs": [],
   "source": [
    "# Exclude the 'Label' column from X\n",
    "X = train_df.drop(columns=['Label'])\n",
    "\n",
    "# Reduce dimensionality using PCA\n",
    "pca = PCA(n_components=500)\n",
    "X_train = pca.fit_transform(X)\n",
    "X_test = pca.transform(eval_df.drop(columns=['Label']))"
   ]
  },
  {
   "cell_type": "code",
   "execution_count": 11,
   "id": "e0d9d539",
   "metadata": {},
   "outputs": [],
   "source": [
    "y_train = train_df['Label']\n",
    "y_test = eval_df['Label']"
   ]
  },
  {
   "cell_type": "markdown",
   "id": "1183fa01",
   "metadata": {},
   "source": [
    "# Modeling"
   ]
  },
  {
   "cell_type": "code",
   "execution_count": 14,
   "id": "69d05ab2",
   "metadata": {
    "scrolled": true
   },
   "outputs": [
    {
     "name": "stdout",
     "output_type": "stream",
     "text": [
      "CPU times: user 10min 30s, sys: 1.09 s, total: 10min 31s\n",
      "Wall time: 10min 37s\n"
     ]
    },
    {
     "data": {
      "text/html": [
       "<style>#sk-container-id-1 {color: black;}#sk-container-id-1 pre{padding: 0;}#sk-container-id-1 div.sk-toggleable {background-color: white;}#sk-container-id-1 label.sk-toggleable__label {cursor: pointer;display: block;width: 100%;margin-bottom: 0;padding: 0.3em;box-sizing: border-box;text-align: center;}#sk-container-id-1 label.sk-toggleable__label-arrow:before {content: \"▸\";float: left;margin-right: 0.25em;color: #696969;}#sk-container-id-1 label.sk-toggleable__label-arrow:hover:before {color: black;}#sk-container-id-1 div.sk-estimator:hover label.sk-toggleable__label-arrow:before {color: black;}#sk-container-id-1 div.sk-toggleable__content {max-height: 0;max-width: 0;overflow: hidden;text-align: left;background-color: #f0f8ff;}#sk-container-id-1 div.sk-toggleable__content pre {margin: 0.2em;color: black;border-radius: 0.25em;background-color: #f0f8ff;}#sk-container-id-1 input.sk-toggleable__control:checked~div.sk-toggleable__content {max-height: 200px;max-width: 100%;overflow: auto;}#sk-container-id-1 input.sk-toggleable__control:checked~label.sk-toggleable__label-arrow:before {content: \"▾\";}#sk-container-id-1 div.sk-estimator input.sk-toggleable__control:checked~label.sk-toggleable__label {background-color: #d4ebff;}#sk-container-id-1 div.sk-label input.sk-toggleable__control:checked~label.sk-toggleable__label {background-color: #d4ebff;}#sk-container-id-1 input.sk-hidden--visually {border: 0;clip: rect(1px 1px 1px 1px);clip: rect(1px, 1px, 1px, 1px);height: 1px;margin: -1px;overflow: hidden;padding: 0;position: absolute;width: 1px;}#sk-container-id-1 div.sk-estimator {font-family: monospace;background-color: #f0f8ff;border: 1px dotted black;border-radius: 0.25em;box-sizing: border-box;margin-bottom: 0.5em;}#sk-container-id-1 div.sk-estimator:hover {background-color: #d4ebff;}#sk-container-id-1 div.sk-parallel-item::after {content: \"\";width: 100%;border-bottom: 1px solid gray;flex-grow: 1;}#sk-container-id-1 div.sk-label:hover label.sk-toggleable__label {background-color: #d4ebff;}#sk-container-id-1 div.sk-serial::before {content: \"\";position: absolute;border-left: 1px solid gray;box-sizing: border-box;top: 0;bottom: 0;left: 50%;z-index: 0;}#sk-container-id-1 div.sk-serial {display: flex;flex-direction: column;align-items: center;background-color: white;padding-right: 0.2em;padding-left: 0.2em;position: relative;}#sk-container-id-1 div.sk-item {position: relative;z-index: 1;}#sk-container-id-1 div.sk-parallel {display: flex;align-items: stretch;justify-content: center;background-color: white;position: relative;}#sk-container-id-1 div.sk-item::before, #sk-container-id-1 div.sk-parallel-item::before {content: \"\";position: absolute;border-left: 1px solid gray;box-sizing: border-box;top: 0;bottom: 0;left: 50%;z-index: -1;}#sk-container-id-1 div.sk-parallel-item {display: flex;flex-direction: column;z-index: 1;position: relative;background-color: white;}#sk-container-id-1 div.sk-parallel-item:first-child::after {align-self: flex-end;width: 50%;}#sk-container-id-1 div.sk-parallel-item:last-child::after {align-self: flex-start;width: 50%;}#sk-container-id-1 div.sk-parallel-item:only-child::after {width: 0;}#sk-container-id-1 div.sk-dashed-wrapped {border: 1px dashed gray;margin: 0 0.4em 0.5em 0.4em;box-sizing: border-box;padding-bottom: 0.4em;background-color: white;}#sk-container-id-1 div.sk-label label {font-family: monospace;font-weight: bold;display: inline-block;line-height: 1.2em;}#sk-container-id-1 div.sk-label-container {text-align: center;}#sk-container-id-1 div.sk-container {/* jupyter's `normalize.less` sets `[hidden] { display: none; }` but bootstrap.min.css set `[hidden] { display: none !important; }` so we also need the `!important` here to be able to override the default hidden behavior on the sphinx rendered scikit-learn.org. See: https://github.com/scikit-learn/scikit-learn/issues/21755 */display: inline-block !important;position: relative;}#sk-container-id-1 div.sk-text-repr-fallback {display: none;}</style><div id=\"sk-container-id-1\" class=\"sk-top-container\"><div class=\"sk-text-repr-fallback\"><pre>SVC(class_weight=&#x27;balanced&#x27;, decision_function_shape=&#x27;ovo&#x27;)</pre><b>In a Jupyter environment, please rerun this cell to show the HTML representation or trust the notebook. <br />On GitHub, the HTML representation is unable to render, please try loading this page with nbviewer.org.</b></div><div class=\"sk-container\" hidden><div class=\"sk-item\"><div class=\"sk-estimator sk-toggleable\"><input class=\"sk-toggleable__control sk-hidden--visually\" id=\"sk-estimator-id-1\" type=\"checkbox\" checked><label for=\"sk-estimator-id-1\" class=\"sk-toggleable__label sk-toggleable__label-arrow\">SVC</label><div class=\"sk-toggleable__content\"><pre>SVC(class_weight=&#x27;balanced&#x27;, decision_function_shape=&#x27;ovo&#x27;)</pre></div></div></div></div></div>"
      ],
      "text/plain": [
       "SVC(class_weight='balanced', decision_function_shape='ovo')"
      ]
     },
     "execution_count": 14,
     "metadata": {},
     "output_type": "execute_result"
    }
   ],
   "source": [
    "%%time\n",
    "# Initialize SVM classifier\n",
    "svm_classifier = SVC(kernel='rbf', decision_function_shape='ovo', class_weight='balanced', gamma='scale', C=1.0, cache_size=200, tol=1e-3)\n",
    "\n",
    "\n",
    "# Train the classifier\n",
    "svm_classifier.fit(X_train, y_train)"
   ]
  },
  {
   "cell_type": "code",
   "execution_count": 15,
   "id": "1bc62428",
   "metadata": {},
   "outputs": [],
   "source": [
    "# Save the trained model to a file\n",
    "with open('svm_model.pkl', 'wb') as f:\n",
    "    pickle.dump(svm_classifier, f)"
   ]
  },
  {
   "cell_type": "code",
   "execution_count": 16,
   "id": "87b21004",
   "metadata": {},
   "outputs": [
    {
     "name": "stdout",
     "output_type": "stream",
     "text": [
      "Accuracy: 0.3794\n"
     ]
    }
   ],
   "source": [
    "# Evaluate the classifier\n",
    "accuracy = svm_classifier.score(X_test, y_test)\n",
    "print(\"Accuracy:\", accuracy)"
   ]
  },
  {
   "cell_type": "code",
   "execution_count": 17,
   "id": "107df7ec",
   "metadata": {},
   "outputs": [],
   "source": [
    "y_pred = svm_classifier.predict(X_test)\n",
    "\n",
    "# Create the confusion matrix\n",
    "cm = confusion_matrix(y_test, y_pred)"
   ]
  },
  {
   "cell_type": "code",
   "execution_count": 18,
   "id": "399bce73",
   "metadata": {},
   "outputs": [
    {
     "data": {
      "image/png": "[encoded data removed]",
      "text/plain": [
       "<Figure size 1000x800 with 2 Axes>"
      ]
     },
     "metadata": {},
     "output_type": "display_data"
    }
   ],
   "source": [
    "# Plot the heatmap\n",
    "plt.figure(figsize=(10, 8))\n",
    "plt.imshow(cm, cmap='Blues')\n",
    "plt.colorbar()\n",
    "plt.title('Confusion Matrix')\n",
    "plt.xlabel('Predicted Label')\n",
    "plt.ylabel('True Label')\n",
    "plt.xticks(np.arange(20))\n",
    "plt.yticks(np.arange(20))\n",
    "plt.grid(False)\n",
    "plt.show()"
   ]
  },
  {
   "cell_type": "code",
   "execution_count": null,
   "id": "8ec7b154",
   "metadata": {},
   "outputs": [],
   "source": []
  },
  {
   "cell_type": "code",
   "execution_count": null,
   "id": "b4dea351",
   "metadata": {},
   "outputs": [],
   "source": []
  }
 ],
 "metadata": {
  "kernelspec": {
   "display_name": "torch_temp",
   "language": "python",
   "name": "torch_temp"
  },
  "language_info": {
   "codemirror_mode": {
    "name": "ipython",
    "version": 3
   },
   "file_extension": ".py",
   "mimetype": "text/x-python",
   "name": "python",
   "nbconvert_exporter": "python",
   "pygments_lexer": "ipython3",
   "version": "3.10.13"
  }
 },
 "nbformat": 4,
 "nbformat_minor": 5
}
