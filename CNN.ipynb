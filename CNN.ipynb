{
 "cells": [
  {
   "cell_type": "markdown",
   "id": "f6ea3750",
   "metadata": {},
   "source": [
    "# Image Classification using Convolutional Neural Networks in Pytorch"
   ]
  },
  {
   "cell_type": "markdown",
   "id": "4cc63fbc",
   "metadata": {},
   "source": [
    "### CIFAR 100 Dataset"
   ]
  },
  {
   "cell_type": "markdown",
   "id": "2d2bf98c",
   "metadata": {},
   "source": [
    "The [CIFAR-100](https://www.cs.toronto.edu/~kriz/cifar.html) dataset is just like the CIFAR-10, except it has 100 classes containing 600 images each. There are 500 training images and 100 testing images per class. The 100 classes in the CIFAR-100 are grouped into 20 superclasses. Each image comes with a \"fine\" label (the class to which it belongs) and a \"coarse\" label (the superclass to which it belongs)."
   ]
  },
  {
   "cell_type": "code",
   "execution_count": 14,
   "id": "9fb52552",
   "metadata": {},
   "outputs": [],
   "source": [
    "import torch\n",
    "from torchvision.datasets import CIFAR100\n",
    "from torch.utils.data import DataLoader\n",
    "import torchvision.transforms as transforms\n",
    "\n",
    "import os\n",
    "import matplotlib\n",
    "import matplotlib.pyplot as plt\n",
    "%matplotlib inline\n",
    "\n",
    "matplotlib.rcParams['figure.facecolor'] = '#ffffff'"
   ]
  },
  {
   "cell_type": "code",
   "execution_count": 2,
   "id": "8c1e1883",
   "metadata": {},
   "outputs": [],
   "source": [
    "DATA_DIR = './data'\n",
    "TRAIN_DIR = f'{DATA_DIR}/training'\n",
    "EVAL_DIR = f'{DATA_DIR}/eval'\n",
    "\n",
    "# Directory creation for data\n",
    "os.makedirs(TRAIN_DIR, exist_ok=True)\n",
    "os.makedirs(EVAL_DIR, exist_ok=True)"
   ]
  },
  {
   "cell_type": "code",
   "execution_count": 3,
   "id": "ec9d488e",
   "metadata": {
    "scrolled": true
   },
   "outputs": [
    {
     "name": "stdout",
     "output_type": "stream",
     "text": [
      "Downloading https://www.cs.toronto.edu/~kriz/cifar-100-python.tar.gz to ./data/training/cifar-100-python.tar.gz\n"
     ]
    },
    {
     "name": "stderr",
     "output_type": "stream",
     "text": [
      "100%|███████████████████████| 169001437/169001437 [00:06<00:00, 24389697.18it/s]\n"
     ]
    },
    {
     "name": "stdout",
     "output_type": "stream",
     "text": [
      "Extracting ./data/training/cifar-100-python.tar.gz to ./data/training\n",
      "Downloading https://www.cs.toronto.edu/~kriz/cifar-100-python.tar.gz to ./data/eval/cifar-100-python.tar.gz\n"
     ]
    },
    {
     "name": "stderr",
     "output_type": "stream",
     "text": [
      "100%|████████████████████████| 169001437/169001437 [00:19<00:00, 8647088.93it/s]\n"
     ]
    },
    {
     "name": "stdout",
     "output_type": "stream",
     "text": [
      "Extracting ./data/eval/cifar-100-python.tar.gz to ./data/eval\n"
     ]
    }
   ],
   "source": [
    "transform = transforms.Compose(\n",
    "    [transforms.ToTensor(),\n",
    "     transforms.Normalize((0.5, 0.5, 0.5), (0.5, 0.5, 0.5))])\n",
    "\n",
    "train_dataset = CIFAR100(root=TRAIN_DIR, download=True, train=True, transform=transform)\n",
    "eval_dataset = CIFAR100(root=EVAL_DIR, download=True, train=False, transform=transform)"
   ]
  },
  {
   "cell_type": "markdown",
   "id": "fbde18b4",
   "metadata": {},
   "source": [
    "## Let's look at the data"
   ]
  },
  {
   "cell_type": "code",
   "execution_count": 4,
   "id": "95583672",
   "metadata": {},
   "outputs": [
    {
     "name": "stdout",
     "output_type": "stream",
     "text": [
      "torch.Size([3, 32, 32])\n",
      "label=19\n"
     ]
    }
   ],
   "source": [
    "for img, label in train_dataset:\n",
    "    print(img.shape)\n",
    "    print(f\"{label=}\")\n",
    "    break"
   ]
  },
  {
   "cell_type": "markdown",
   "id": "df4a0673",
   "metadata": {},
   "source": [
    "The images are 3 channel RGB images"
   ]
  },
  {
   "cell_type": "code",
   "execution_count": 13,
   "id": "c78fe611",
   "metadata": {},
   "outputs": [
    {
     "name": "stdout",
     "output_type": "stream",
     "text": [
      "Total classes in this dataset 100\n",
      "\n",
      "CLASSES in DATASET\n",
      "['apple', 'aquarium_fish', 'baby', 'bear', 'beaver', 'bed', 'bee', 'beetle', 'bicycle', 'bottle']\n",
      "['bowl', 'boy', 'bridge', 'bus', 'butterfly', 'camel', 'can', 'castle', 'caterpillar', 'cattle']\n",
      "['chair', 'chimpanzee', 'clock', 'cloud', 'cockroach', 'couch', 'crab', 'crocodile', 'cup', 'dinosaur']\n",
      "['dolphin', 'elephant', 'flatfish', 'forest', 'fox', 'girl', 'hamster', 'house', 'kangaroo', 'keyboard']\n",
      "['lamp', 'lawn_mower', 'leopard', 'lion', 'lizard', 'lobster', 'man', 'maple_tree', 'motorcycle', 'mountain']\n",
      "['mouse', 'mushroom', 'oak_tree', 'orange', 'orchid', 'otter', 'palm_tree', 'pear', 'pickup_truck', 'pine_tree']\n",
      "['plain', 'plate', 'poppy', 'porcupine', 'possum', 'rabbit', 'raccoon', 'ray', 'road', 'rocket']\n",
      "['rose', 'sea', 'seal', 'shark', 'shrew', 'skunk', 'skyscraper', 'snail', 'snake', 'spider']\n",
      "['squirrel', 'streetcar', 'sunflower', 'sweet_pepper', 'table', 'tank', 'telephone', 'television', 'tiger', 'tractor']\n",
      "['train', 'trout', 'tulip', 'turtle', 'wardrobe', 'whale', 'willow_tree', 'wolf', 'woman', 'worm']\n"
     ]
    }
   ],
   "source": [
    "all_classes = train_dataset.classes\n",
    "print(f\"Total classes in this dataset {len(all_classes)}\\n\")\n",
    "print(\"CLASSES in DATASET\")\n",
    "for i in range(0,len(all_classes), 10):\n",
    "    print(all_classes[i:i+10], sep=', ')"
   ]
  },
  {
   "cell_type": "code",
   "execution_count": 26,
   "id": "1cee5d01",
   "metadata": {},
   "outputs": [],
   "source": [
    "def show_img(img, label):\n",
    "    \"\"\"\n",
    "    Function displays the image and its label\n",
    "    \"\"\"\n",
    "    print(\"Label: \", train_dataset.classes[label])\n",
    "    plt.imshow(img.permute(1, 2, 0))"
   ]
  },
  {
   "cell_type": "code",
   "execution_count": 29,
   "id": "1789e456",
   "metadata": {
    "scrolled": true
   },
   "outputs": [
    {
     "name": "stderr",
     "output_type": "stream",
     "text": [
      "Clipping input data to the valid range for imshow with RGB data ([0..1] for floats or [0..255] for integers).\n"
     ]
    },
    {
     "name": "stdout",
     "output_type": "stream",
     "text": [
      "Label:  cattle\n"
     ]
    },
    {
     "data": {
      "image/png": "[encoded data removed]",
      "text/plain": [
       "<Figure size 640x480 with 1 Axes>"
      ]
     },
     "metadata": {},
     "output_type": "display_data"
    }
   ],
   "source": [
    "show_img(*train_dataset[0])show_img(*train_dataset[0])"
   ]
  },
  {
   "cell_type": "markdown",
   "id": "89cfe31c",
   "metadata": {},
   "source": [
    "The resolution of these images are really bad but our CNN should have no problem in classifying these images"
   ]
  },
  {
   "cell_type": "code",
   "execution_count": 30,
   "id": "4350d5df",
   "metadata": {},
   "outputs": [
    {
     "name": "stderr",
     "output_type": "stream",
     "text": [
      "Clipping input data to the valid range for imshow with RGB data ([0..1] for floats or [0..255] for integers).\n"
     ]
    },
    {
     "name": "stdout",
     "output_type": "stream",
     "text": [
      "Label:  keyboard\n"
     ]
    },
    {
     "data": {
      "image/png": "[encoded data removed]",
      "text/plain": [
       "<Figure size 640x480 with 1 Axes>"
      ]
     },
     "metadata": {},
     "output_type": "display_data"
    }
   ],
   "source": [
    "show_img(*train_dataset[10])"
   ]
  },
  {
   "cell_type": "markdown",
   "id": "84bf84cd",
   "metadata": {},
   "source": [
    "## Data Preperation"
   ]
  },
  {
   "cell_type": "code",
   "execution_count": null,
   "id": "75f96d39",
   "metadata": {},
   "outputs": [],
   "source": []
  }
 ],
 "metadata": {
  "kernelspec": {
   "display_name": "torch_temp",
   "language": "python",
   "name": "torch_temp"
  },
  "language_info": {
   "codemirror_mode": {
    "name": "ipython",
    "version": 3
   },
   "file_extension": ".py",
   "mimetype": "text/x-python",
   "name": "python",
   "nbconvert_exporter": "python",
   "pygments_lexer": "ipython3",
   "version": "3.10.13"
  }
 },
 "nbformat": 4,
 "nbformat_minor": 5
}
